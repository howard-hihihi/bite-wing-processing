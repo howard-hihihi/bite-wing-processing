{
 "cells": [
  {
   "cell_type": "markdown",
   "metadata": {},
   "source": [
    "### Process JSON to Mask"
   ]
  },
  {
   "cell_type": "markdown",
   "metadata": {},
   "source": [
    "##### Import"
   ]
  },
  {
   "cell_type": "code",
   "execution_count": 1,
   "metadata": {},
   "outputs": [],
   "source": [
    "import numpy as np \n",
    "import cv2\n",
    "import json"
   ]
  },
  {
   "cell_type": "markdown",
   "metadata": {},
   "source": [
    "##### Reading the JSON file"
   ]
  },
  {
   "cell_type": "code",
   "execution_count": 2,
   "metadata": {},
   "outputs": [
    {
     "name": "stdout",
     "output_type": "stream",
     "text": [
      "{'info': {'year': '2023', 'version': '1', 'description': 'Exported from roboflow.com', 'contributor': '', 'url': 'https://public.roboflow.com/object-detection/undefined', 'date_created': '2023-11-06T16:24:50+00:00'}, 'licenses': [{'id': 1, 'url': 'https://creativecommons.org/licenses/by/4.0/', 'name': 'CC BY 4.0'}], 'categories': [{'id': 0, 'name': 'brace', 'supercategory': 'none'}, {'id': 1, 'name': 'brace', 'supercategory': 'brace'}], 'images': [{'id': 0, 'license': 1, 'file_name': 'a56_1_jpg.rf.0ecf2a8b76f2dd43a4a8b4ae6d0461f3.jpg', 'height': 640, 'width': 640, 'date_captured': '2023-11-06T16:24:50+00:00'}, {'id': 1, 'license': 1, 'file_name': 'a2_1_jpg.rf.25965515ffbb7977dcdf92708bb963d2.jpg', 'height': 640, 'width': 640, 'date_captured': '2023-11-06T16:24:50+00:00'}, {'id': 2, 'license': 1, 'file_name': 'a31_1_jpg.rf.06195f74be1266371ceeb6875b8a9c70.jpg', 'height': 640, 'width': 640, 'date_captured': '2023-11-06T16:24:50+00:00'}], 'annotations': [{'id': 0, 'image_id': 0, 'category_id': 1, 'bbox': [376, 3, 116.875, 266.875], 'area': 31191.016, 'segmentation': [[461.25, 5, 395.625, 3.125, 391.25, 62.5, 391.875, 101.875, 380.625, 134.375, 380.625, 163.125, 376.875, 204.375, 375.625, 230, 395, 246.25, 410.625, 256.25, 438.125, 270, 460.625, 261.25, 476.875, 239.375, 492.5, 215, 492.5, 185.625, 482.5, 133.125, 474.375, 101.875, 462.5, 23.75, 461.25, 5]], 'iscrowd': 0}, {'id': 1, 'image_id': 1, 'category_id': 1, 'bbox': [153, 40, 263.125, 298.125], 'area': 78444.141, 'segmentation': [[414.375, 123.75, 415.625, 66.25, 386.875, 40.625, 353.75, 40, 329.375, 54.375, 325, 75.625, 331.875, 110, 323.125, 146.875, 317.5, 163.75, 303.125, 166.875, 301.25, 130, 305, 107.5, 317.5, 80.625, 316.875, 56.875, 308.125, 42.5, 286.25, 44.375, 263.125, 66.25, 250, 104.375, 235, 149.375, 222.5, 183.75, 210.625, 213.75, 188.75, 245, 166.25, 258.75, 161.875, 281.875, 152.5, 307.5, 179.375, 330, 194.375, 335.625, 210, 338.125, 249.375, 333.75, 281.875, 333.125, 303.75, 333.125, 328.125, 336.875, 350, 336.875, 368.125, 331.25, 402.5, 303.75, 405, 253.75, 389.375, 195.625, 383.125, 181.875, 414.375, 123.75]], 'iscrowd': 0}, {'id': 2, 'image_id': 1, 'category_id': 1, 'bbox': [414, 342, 225.625, 241.25], 'area': 54432.031, 'segmentation': [[443.75, 449.375, 460, 461.25, 474.375, 472.5, 515, 507.5, 565, 550, 607.5, 583.125, 628.75, 547.5, 640, 518.125, 637.5, 346.875, 626.25, 341.875, 580.625, 346.25, 548.75, 346.25, 525, 356.875, 492.5, 352.5, 460, 353.75, 433.75, 358.125, 414.375, 371.875, 426.25, 421.875, 443.75, 449.375]], 'iscrowd': 0}, {'id': 3, 'image_id': 2, 'category_id': 1, 'bbox': [329, 2, 176.25, 240], 'area': 42300, 'segmentation': [[466.875, 48.125, 448.125, 1.875, 336.875, 8.125, 328.75, 18.75, 351.875, 63.75, 369.375, 107.5, 356.875, 132.5, 353.75, 183.125, 356.25, 234.375, 390.625, 238.75, 407.5, 239.375, 423.75, 235, 455.625, 241.875, 488.125, 228.125, 505, 209.375, 500, 159.375, 489.375, 120.625, 475, 98.125, 466.875, 48.125]], 'iscrowd': 0}]}\n"
     ]
    }
   ],
   "source": [
    "file = open(\"train/mask.json\", \"r\")\n",
    "data = json.load(file)\n",
    "print(data)"
   ]
  },
  {
   "cell_type": "markdown",
   "metadata": {},
   "source": [
    "##### Folders"
   ]
  },
  {
   "cell_type": "code",
   "execution_count": 3,
   "metadata": {},
   "outputs": [],
   "source": [
    "img_dir = \"Images\"\n",
    "mask_dir = \"Mask\""
   ]
  },
  {
   "cell_type": "markdown",
   "metadata": {},
   "source": [
    "##### Images and Annotations"
   ]
  },
  {
   "cell_type": "code",
   "execution_count": 4,
   "metadata": {},
   "outputs": [],
   "source": [
    "images = data[\"images\"]\n",
    "annots = data[\"annotations\"]"
   ]
  },
  {
   "cell_type": "code",
   "execution_count": 5,
   "metadata": {},
   "outputs": [
    {
     "name": "stdout",
     "output_type": "stream",
     "text": [
      "[{'id': 0, 'license': 1, 'file_name': 'a56_1_jpg.rf.0ecf2a8b76f2dd43a4a8b4ae6d0461f3.jpg', 'height': 640, 'width': 640, 'date_captured': '2023-11-06T16:24:50+00:00'}, {'id': 1, 'license': 1, 'file_name': 'a2_1_jpg.rf.25965515ffbb7977dcdf92708bb963d2.jpg', 'height': 640, 'width': 640, 'date_captured': '2023-11-06T16:24:50+00:00'}, {'id': 2, 'license': 1, 'file_name': 'a31_1_jpg.rf.06195f74be1266371ceeb6875b8a9c70.jpg', 'height': 640, 'width': 640, 'date_captured': '2023-11-06T16:24:50+00:00'}]\n",
      "[{'id': 0, 'image_id': 0, 'category_id': 1, 'bbox': [376, 3, 116.875, 266.875], 'area': 31191.016, 'segmentation': [[461.25, 5, 395.625, 3.125, 391.25, 62.5, 391.875, 101.875, 380.625, 134.375, 380.625, 163.125, 376.875, 204.375, 375.625, 230, 395, 246.25, 410.625, 256.25, 438.125, 270, 460.625, 261.25, 476.875, 239.375, 492.5, 215, 492.5, 185.625, 482.5, 133.125, 474.375, 101.875, 462.5, 23.75, 461.25, 5]], 'iscrowd': 0}, {'id': 1, 'image_id': 1, 'category_id': 1, 'bbox': [153, 40, 263.125, 298.125], 'area': 78444.141, 'segmentation': [[414.375, 123.75, 415.625, 66.25, 386.875, 40.625, 353.75, 40, 329.375, 54.375, 325, 75.625, 331.875, 110, 323.125, 146.875, 317.5, 163.75, 303.125, 166.875, 301.25, 130, 305, 107.5, 317.5, 80.625, 316.875, 56.875, 308.125, 42.5, 286.25, 44.375, 263.125, 66.25, 250, 104.375, 235, 149.375, 222.5, 183.75, 210.625, 213.75, 188.75, 245, 166.25, 258.75, 161.875, 281.875, 152.5, 307.5, 179.375, 330, 194.375, 335.625, 210, 338.125, 249.375, 333.75, 281.875, 333.125, 303.75, 333.125, 328.125, 336.875, 350, 336.875, 368.125, 331.25, 402.5, 303.75, 405, 253.75, 389.375, 195.625, 383.125, 181.875, 414.375, 123.75]], 'iscrowd': 0}, {'id': 2, 'image_id': 1, 'category_id': 1, 'bbox': [414, 342, 225.625, 241.25], 'area': 54432.031, 'segmentation': [[443.75, 449.375, 460, 461.25, 474.375, 472.5, 515, 507.5, 565, 550, 607.5, 583.125, 628.75, 547.5, 640, 518.125, 637.5, 346.875, 626.25, 341.875, 580.625, 346.25, 548.75, 346.25, 525, 356.875, 492.5, 352.5, 460, 353.75, 433.75, 358.125, 414.375, 371.875, 426.25, 421.875, 443.75, 449.375]], 'iscrowd': 0}, {'id': 3, 'image_id': 2, 'category_id': 1, 'bbox': [329, 2, 176.25, 240], 'area': 42300, 'segmentation': [[466.875, 48.125, 448.125, 1.875, 336.875, 8.125, 328.75, 18.75, 351.875, 63.75, 369.375, 107.5, 356.875, 132.5, 353.75, 183.125, 356.25, 234.375, 390.625, 238.75, 407.5, 239.375, 423.75, 235, 455.625, 241.875, 488.125, 228.125, 505, 209.375, 500, 159.375, 489.375, 120.625, 475, 98.125, 466.875, 48.125]], 'iscrowd': 0}]\n"
     ]
    }
   ],
   "source": [
    "print(images)\n",
    "print(annots)"
   ]
  },
  {
   "cell_type": "markdown",
   "metadata": {},
   "source": [
    "##### Loop over the data and save the Mask"
   ]
  },
  {
   "cell_type": "code",
   "execution_count": 6,
   "metadata": {
    "tags": []
   },
   "outputs": [],
   "source": [
    "# for x, y in zip(images, annots):\n",
    "#     file = x[\"file_name\"]\n",
    "#     h = x[\"height\"]\n",
    "#     w = x[\"width\"]\n",
    "    \n",
    "#     mask = np.zeros((h, w))\n",
    "#     seg = y[\"segmentation\"]\n",
    "    \n",
    "#     for points in seg:\n",
    "#         contours = []\n",
    "#         for i in range(0, len(points), 2):\n",
    "#             contours.append((points[i], points[i+1]))\n",
    "            \n",
    "#         contours = np.array(contours, dtype=np.int32)\n",
    "        \n",
    "#         cv2.drawContours(mask, [contours], -1, 255, -1)\n",
    "#     cv2.imwrite(f\"{mask_dir}/{file}\", mask)"
   ]
  },
  {
   "cell_type": "code",
   "execution_count": 24,
   "metadata": {},
   "outputs": [],
   "source": [
    "id_1, id_2 = 0, 0\n",
    "while id_1 < len(images) or id_2 < len(annots):\n",
    "    file = images[id_1][\"file_name\"]\n",
    "    h = images[id_1][\"height\"]\n",
    "    w = images[id_1][\"width\"]\n",
    "    \n",
    "    mask = np.zeros((h, w))\n",
    "    \n",
    "    while id_2 < len(annots) and images[id_1][\"id\"] == annots[id_2][\"image_id\"]:\n",
    "        contours = []\n",
    "        points = annots[id_2][\"segmentation\"][0]\n",
    "        for i in range(0, len(points), 2):\n",
    "            contours.append((points[i], points[i+1]))\n",
    "            \n",
    "        contours = np.array(contours, dtype=np.int32)\n",
    "        cv2.drawContours(mask, [contours], -1, 255, -1)\n",
    "\n",
    "        id_2 += 1\n",
    "        \n",
    "    cv2.imwrite(f\"{mask_dir}/{file}\", mask)\n",
    "    \n",
    "    id_1 += 1"
   ]
  },
  {
   "cell_type": "code",
   "execution_count": 17,
   "metadata": {},
   "outputs": [
    {
     "name": "stdout",
     "output_type": "stream",
     "text": [
      "{'id': 0, 'license': 1, 'file_name': 'a56_1_jpg.rf.0ecf2a8b76f2dd43a4a8b4ae6d0461f3.jpg', 'height': 640, 'width': 640, 'date_captured': '2023-11-06T16:24:50+00:00'}\n",
      "{'id': 1, 'license': 1, 'file_name': 'a2_1_jpg.rf.25965515ffbb7977dcdf92708bb963d2.jpg', 'height': 640, 'width': 640, 'date_captured': '2023-11-06T16:24:50+00:00'}\n",
      "{'id': 2, 'license': 1, 'file_name': 'a31_1_jpg.rf.06195f74be1266371ceeb6875b8a9c70.jpg', 'height': 640, 'width': 640, 'date_captured': '2023-11-06T16:24:50+00:00'}\n",
      "\n",
      "{'id': 0, 'image_id': 0, 'category_id': 1, 'bbox': [376, 3, 116.875, 266.875], 'area': 31191.016, 'segmentation': [[461.25, 5, 395.625, 3.125, 391.25, 62.5, 391.875, 101.875, 380.625, 134.375, 380.625, 163.125, 376.875, 204.375, 375.625, 230, 395, 246.25, 410.625, 256.25, 438.125, 270, 460.625, 261.25, 476.875, 239.375, 492.5, 215, 492.5, 185.625, 482.5, 133.125, 474.375, 101.875, 462.5, 23.75, 461.25, 5]], 'iscrowd': 0}\n",
      "{'id': 1, 'image_id': 1, 'category_id': 1, 'bbox': [153, 40, 263.125, 298.125], 'area': 78444.141, 'segmentation': [[414.375, 123.75, 415.625, 66.25, 386.875, 40.625, 353.75, 40, 329.375, 54.375, 325, 75.625, 331.875, 110, 323.125, 146.875, 317.5, 163.75, 303.125, 166.875, 301.25, 130, 305, 107.5, 317.5, 80.625, 316.875, 56.875, 308.125, 42.5, 286.25, 44.375, 263.125, 66.25, 250, 104.375, 235, 149.375, 222.5, 183.75, 210.625, 213.75, 188.75, 245, 166.25, 258.75, 161.875, 281.875, 152.5, 307.5, 179.375, 330, 194.375, 335.625, 210, 338.125, 249.375, 333.75, 281.875, 333.125, 303.75, 333.125, 328.125, 336.875, 350, 336.875, 368.125, 331.25, 402.5, 303.75, 405, 253.75, 389.375, 195.625, 383.125, 181.875, 414.375, 123.75]], 'iscrowd': 0}\n",
      "{'id': 2, 'image_id': 1, 'category_id': 1, 'bbox': [414, 342, 225.625, 241.25], 'area': 54432.031, 'segmentation': [[443.75, 449.375, 460, 461.25, 474.375, 472.5, 515, 507.5, 565, 550, 607.5, 583.125, 628.75, 547.5, 640, 518.125, 637.5, 346.875, 626.25, 341.875, 580.625, 346.25, 548.75, 346.25, 525, 356.875, 492.5, 352.5, 460, 353.75, 433.75, 358.125, 414.375, 371.875, 426.25, 421.875, 443.75, 449.375]], 'iscrowd': 0}\n",
      "{'id': 3, 'image_id': 2, 'category_id': 1, 'bbox': [329, 2, 176.25, 240], 'area': 42300, 'segmentation': [[466.875, 48.125, 448.125, 1.875, 336.875, 8.125, 328.75, 18.75, 351.875, 63.75, 369.375, 107.5, 356.875, 132.5, 353.75, 183.125, 356.25, 234.375, 390.625, 238.75, 407.5, 239.375, 423.75, 235, 455.625, 241.875, 488.125, 228.125, 505, 209.375, 500, 159.375, 489.375, 120.625, 475, 98.125, 466.875, 48.125]], 'iscrowd': 0}\n",
      "\n",
      "<class 'dict'> [{'id': 0, 'license': 1, 'file_name': 'a56_1_jpg.rf.0ecf2a8b76f2dd43a4a8b4ae6d0461f3.jpg', 'height': 640, 'width': 640, 'date_captured': '2023-11-06T16:24:50+00:00'}, {'id': 1, 'license': 1, 'file_name': 'a2_1_jpg.rf.25965515ffbb7977dcdf92708bb963d2.jpg', 'height': 640, 'width': 640, 'date_captured': '2023-11-06T16:24:50+00:00'}, {'id': 2, 'license': 1, 'file_name': 'a31_1_jpg.rf.06195f74be1266371ceeb6875b8a9c70.jpg', 'height': 640, 'width': 640, 'date_captured': '2023-11-06T16:24:50+00:00'}]\n",
      "3\n",
      "4\n",
      "{'id': 2, 'license': 1, 'file_name': 'a31_1_jpg.rf.06195f74be1266371ceeb6875b8a9c70.jpg', 'height': 640, 'width': 640, 'date_captured': '2023-11-06T16:24:50+00:00'}\n"
     ]
    }
   ],
   "source": [
    "for x in images:\n",
    "    print(x)\n",
    "print()\n",
    "for y in annots:\n",
    "    print(y)\n",
    "print()\n",
    "    \n",
    "\n",
    "print(type(images[0]), images)\n",
    "print(len(images))\n",
    "print(len(annots))\n",
    "print(images[2])"
   ]
  }
 ],
 "metadata": {
  "kernelspec": {
   "display_name": ".venv",
   "language": "python",
   "name": "python3"
  },
  "language_info": {
   "codemirror_mode": {
    "name": "ipython",
    "version": 3
   },
   "file_extension": ".py",
   "mimetype": "text/x-python",
   "name": "python",
   "nbconvert_exporter": "python",
   "pygments_lexer": "ipython3",
   "version": "3.9.13"
  }
 },
 "nbformat": 4,
 "nbformat_minor": 2
}
